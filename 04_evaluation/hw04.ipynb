{
 "cells": [
  {
   "cell_type": "markdown",
   "id": "71fb6f14",
   "metadata": {},
   "source": [
    "# HW04"
   ]
  },
  {
   "cell_type": "markdown",
   "id": "0ed274ef",
   "metadata": {},
   "source": [
    "In this dataset our desired target for classification task will be `converted` variable - has the client signed up to the platform or not.  \n",
    "\n",
    "### Data preparation\n",
    "- Check if the missing values are presented in the features.\n",
    "- If there are missing values:\n",
    "    - For caterogiral features, replace them with 'NA'\n",
    "    - For numerical features, replace with with 0.0  \n",
    "Split the data into 3 parts: train/validation/test with 60%/20%/20% distribution. Use `train_test_split` function for that with `random_state=1"
   ]
  },
  {
   "cell_type": "code",
   "execution_count": 3,
   "id": "39322bfd",
   "metadata": {},
   "outputs": [],
   "source": [
    "import pandas as pd\n",
    "import numpy as np\n",
    "import matplotlib.pyplot as plt\n",
    "from sklearn.model_selection import train_test_split, KFold\n",
    "from sklearn.feature_extraction import DictVectorizer\n",
    "from sklearn.linear_model import LogisticRegression\n",
    "from sklearn.metrics import roc_auc_score, precision_score, recall_score, f1_score"
   ]
  },
  {
   "cell_type": "code",
   "execution_count": 4,
   "id": "93a4d8b3",
   "metadata": {},
   "outputs": [],
   "source": [
    "df = pd.read_csv(\n",
    "    \"https://raw.githubusercontent.com/alexeygrigorev/datasets/master/course_lead_scoring.csv\"\n",
    ")"
   ]
  },
  {
   "cell_type": "code",
   "execution_count": null,
   "id": "de327233",
   "metadata": {},
   "outputs": [],
   "source": [
    "# Standardize column names (following notebook style)\n",
    "df.columns = df.columns.str.lower().str.replace(\" \", \"_\")"
   ]
  },
  {
   "cell_type": "markdown",
   "id": "c1bfaf95",
   "metadata": {},
   "source": [
    "The target variable 'converted' is already in 0/1 format"
   ]
  },
  {
   "cell_type": "code",
   "execution_count": 6,
   "id": "9beee51c",
   "metadata": {},
   "outputs": [
    {
     "data": {
      "text/html": [
       "<div>\n",
       "<style scoped>\n",
       "    .dataframe tbody tr th:only-of-type {\n",
       "        vertical-align: middle;\n",
       "    }\n",
       "\n",
       "    .dataframe tbody tr th {\n",
       "        vertical-align: top;\n",
       "    }\n",
       "\n",
       "    .dataframe thead th {\n",
       "        text-align: right;\n",
       "    }\n",
       "</style>\n",
       "<table border=\"1\" class=\"dataframe\">\n",
       "  <thead>\n",
       "    <tr style=\"text-align: right;\">\n",
       "      <th></th>\n",
       "      <th>lead_source</th>\n",
       "      <th>industry</th>\n",
       "      <th>number_of_courses_viewed</th>\n",
       "      <th>annual_income</th>\n",
       "      <th>employment_status</th>\n",
       "      <th>location</th>\n",
       "      <th>interaction_count</th>\n",
       "      <th>lead_score</th>\n",
       "      <th>converted</th>\n",
       "    </tr>\n",
       "  </thead>\n",
       "  <tbody>\n",
       "    <tr>\n",
       "      <th>0</th>\n",
       "      <td>paid_ads</td>\n",
       "      <td>NaN</td>\n",
       "      <td>1</td>\n",
       "      <td>79450.0</td>\n",
       "      <td>unemployed</td>\n",
       "      <td>south_america</td>\n",
       "      <td>4</td>\n",
       "      <td>0.94</td>\n",
       "      <td>1</td>\n",
       "    </tr>\n",
       "    <tr>\n",
       "      <th>1</th>\n",
       "      <td>social_media</td>\n",
       "      <td>retail</td>\n",
       "      <td>1</td>\n",
       "      <td>46992.0</td>\n",
       "      <td>employed</td>\n",
       "      <td>south_america</td>\n",
       "      <td>1</td>\n",
       "      <td>0.80</td>\n",
       "      <td>0</td>\n",
       "    </tr>\n",
       "    <tr>\n",
       "      <th>2</th>\n",
       "      <td>events</td>\n",
       "      <td>healthcare</td>\n",
       "      <td>5</td>\n",
       "      <td>78796.0</td>\n",
       "      <td>unemployed</td>\n",
       "      <td>australia</td>\n",
       "      <td>3</td>\n",
       "      <td>0.69</td>\n",
       "      <td>1</td>\n",
       "    </tr>\n",
       "    <tr>\n",
       "      <th>3</th>\n",
       "      <td>paid_ads</td>\n",
       "      <td>retail</td>\n",
       "      <td>2</td>\n",
       "      <td>83843.0</td>\n",
       "      <td>NaN</td>\n",
       "      <td>australia</td>\n",
       "      <td>1</td>\n",
       "      <td>0.87</td>\n",
       "      <td>0</td>\n",
       "    </tr>\n",
       "    <tr>\n",
       "      <th>4</th>\n",
       "      <td>referral</td>\n",
       "      <td>education</td>\n",
       "      <td>3</td>\n",
       "      <td>85012.0</td>\n",
       "      <td>self_employed</td>\n",
       "      <td>europe</td>\n",
       "      <td>3</td>\n",
       "      <td>0.62</td>\n",
       "      <td>1</td>\n",
       "    </tr>\n",
       "  </tbody>\n",
       "</table>\n",
       "</div>"
      ],
      "text/plain": [
       "    lead_source    industry  number_of_courses_viewed  annual_income  \\\n",
       "0      paid_ads         NaN                         1        79450.0   \n",
       "1  social_media      retail                         1        46992.0   \n",
       "2        events  healthcare                         5        78796.0   \n",
       "3      paid_ads      retail                         2        83843.0   \n",
       "4      referral   education                         3        85012.0   \n",
       "\n",
       "  employment_status       location  interaction_count  lead_score  converted  \n",
       "0        unemployed  south_america                  4        0.94          1  \n",
       "1          employed  south_america                  1        0.80          0  \n",
       "2        unemployed      australia                  3        0.69          1  \n",
       "3               NaN      australia                  1        0.87          0  \n",
       "4     self_employed         europe                  3        0.62          1  "
      ]
     },
     "execution_count": 6,
     "metadata": {},
     "output_type": "execute_result"
    }
   ],
   "source": [
    "df.head()"
   ]
  },
  {
   "cell_type": "code",
   "execution_count": 10,
   "id": "574b6087",
   "metadata": {},
   "outputs": [
    {
     "data": {
      "text/plain": [
       "lead_source                  object\n",
       "industry                     object\n",
       "number_of_courses_viewed      int64\n",
       "annual_income               float64\n",
       "employment_status            object\n",
       "location                     object\n",
       "interaction_count             int64\n",
       "lead_score                  float64\n",
       "converted                     int64\n",
       "dtype: object"
      ]
     },
     "execution_count": 10,
     "metadata": {},
     "output_type": "execute_result"
    }
   ],
   "source": [
    "# check dtypes\n",
    "df.dtypes"
   ]
  },
  {
   "cell_type": "code",
   "execution_count": 11,
   "id": "33f2953e",
   "metadata": {},
   "outputs": [],
   "source": [
    "# Identify categorical and numerical features\n",
    "numerical = [\n",
    "    \"number_of_courses_viewed\",\n",
    "    \"annual_income\",\n",
    "    \"interaction_count\",\n",
    "    \"lead_score\",\n",
    "]\n",
    "categorical = [\"lead_source\", \"industry\", \"employment_status\", \"location\"]\n",
    "\n",
    "# Data Preparation: Handle missing values\n",
    "for col in categorical:\n",
    "    # For categorical features, replace missing values with 'NA'\n",
    "    df[col] = df[col].fillna(\"NA\")\n",
    "\n",
    "for col in numerical:\n",
    "    # For numerical features, replace missing values with 0.0\n",
    "    df[col] = df[col].fillna(0.0)"
   ]
  },
  {
   "cell_type": "markdown",
   "id": "0c7d3073",
   "metadata": {},
   "source": [
    "### To split data into three parts => Train/Validation/Test"
   ]
  },
  {
   "cell_type": "code",
   "execution_count": 12,
   "id": "a1eb936b",
   "metadata": {},
   "outputs": [
    {
     "data": {
      "text/plain": [
       "1462"
      ]
     },
     "execution_count": 12,
     "metadata": {},
     "output_type": "execute_result"
    }
   ],
   "source": [
    "# check how many data\n",
    "n = len(df)\n",
    "n"
   ]
  },
  {
   "cell_type": "code",
   "execution_count": 13,
   "id": "1266b31b",
   "metadata": {},
   "outputs": [],
   "source": [
    "# Split the data into 3 parts: train/validation/test with 60%/20%/20% distribution.\n",
    "# First split: full_train (80%) and test (20%)\n",
    "df_full_train, df_test = train_test_split(df, test_size=0.2, random_state=1)\n",
    "\n",
    "# Second split: train (60%) and validation (20%) from full_train (80% * 0.25 = 20%)\n",
    "df_train, df_val = train_test_split(df_full_train, test_size=0.25, random_state=1)"
   ]
  },
  {
   "cell_type": "code",
   "execution_count": 14,
   "id": "a4a40efc",
   "metadata": {},
   "outputs": [],
   "source": [
    "# Reset index\n",
    "df_train = df_train.reset_index(drop=True)\n",
    "df_val = df_val.reset_index(drop=True)\n",
    "df_test = df_test.reset_index(drop=True)\n",
    "df_full_train = df_full_train.reset_index(drop=True)  # Used for Q5/Q6 CV"
   ]
  },
  {
   "cell_type": "code",
   "execution_count": 15,
   "id": "cf24e28c",
   "metadata": {},
   "outputs": [],
   "source": [
    "# Extract the target variables\n",
    "y_train = df_train.converted.values\n",
    "y_val = df_val.converted.values\n",
    "y_test = df_test.converted.values\n",
    "y_full_train = df_full_train.converted.values"
   ]
  },
  {
   "cell_type": "code",
   "execution_count": 16,
   "id": "c0f8f3a1",
   "metadata": {},
   "outputs": [],
   "source": [
    "# Delete the target variable from the feature dataframes\n",
    "del df_train[\"converted\"]\n",
    "del df_val[\"converted\"]\n",
    "del df_test[\"converted\"]\n",
    "del df_full_train[\"converted\"]"
   ]
  },
  {
   "cell_type": "markdown",
   "id": "b1f67203",
   "metadata": {},
   "source": [
    "### Question 1: ROC AUC feature importance\n",
    "\n",
    "ROC AUC could also be used to evaluate feature importance of numerical variables. \n",
    "\n",
    "Let's do that\n",
    "\n",
    "* For each numerical variable, use it as score (aka prediction) and compute the AUC with the `y` variable as ground truth.\n",
    "* Use the training dataset for that\n",
    "\n",
    "\n",
    "If your AUC is < 0.5, invert this variable by putting \"-\" in front\n",
    "\n",
    "(e.g. `-df_train['balance']`)\n",
    "\n",
    "AUC can go below 0.5 if the variable is negatively correlated with the target variable. You can change the direction of the correlation by negating this variable - then negative correlation becomes positive.\n",
    "\n",
    "Which numerical variable (among the following 4) has the highest AUC?\n",
    "\n",
    "- `lead_score`\n",
    "- `number_of_courses_viewed`\n",
    "- `interaction_count`\n",
    "- `annual_income`"
   ]
  },
  {
   "cell_type": "code",
   "execution_count": 17,
   "id": "a19aa8b1",
   "metadata": {},
   "outputs": [
    {
     "name": "stdout",
     "output_type": "stream",
     "text": [
      "--- Question 1: ROC AUC Feature Importance ---\n",
      "number_of_courses_viewed  0.7636\n",
      "annual_income             0.5520\n",
      "interaction_count         0.7383\n",
      "lead_score                0.6145\n",
      "\n",
      "The numerical variable with the highest AUC is: number_of_courses_viewed (0.7636)\n"
     ]
    }
   ],
   "source": [
    "# Question 1: ROC AUC feature importance\n",
    "print(\"--- Question 1: ROC AUC Feature Importance ---\")\n",
    "\n",
    "scores = {}\n",
    "\n",
    "for col in numerical:\n",
    "    # Use the numerical feature as the score (prediction)\n",
    "    auc = roc_auc_score(y_train, df_train[col])\n",
    "\n",
    "    # If AUC < 0.5, invert the variable and recalculate AUC\n",
    "    if auc < 0.5:\n",
    "        auc = roc_auc_score(y_train, -df_train[col])\n",
    "        print(f\"Feature {col} was inverted.\")\n",
    "\n",
    "    scores[col] = auc\n",
    "    print(f\"{col:25} {auc:.4f}\")\n",
    "\n",
    "# Find the feature with the highest AUC\n",
    "best_feature_q1 = max(scores, key=scores.get)\n",
    "\n",
    "print(\n",
    "    f\"\\nThe numerical variable with the highest AUC is: {best_feature_q1} ({scores[best_feature_q1]:.4f})\"\n",
    ")"
   ]
  },
  {
   "cell_type": "markdown",
   "id": "0180a76c",
   "metadata": {},
   "source": [
    "### Q1 Ans is number_of_courses_viewed"
   ]
  },
  {
   "cell_type": "markdown",
   "id": "f1a863bc",
   "metadata": {},
   "source": [
    "### Question 2: Training the model\n",
    "\n",
    "Apply one-hot-encoding using `DictVectorizer` and train the logistic regression with these parameters:\n",
    "\n",
    "```python\n",
    "LogisticRegression(solver='liblinear', C=1.0, max_iter=1000)\n",
    "```\n",
    "\n",
    "What's the AUC of this model on the validation dataset? (round to 3 digits)\n",
    "\n",
    "- 0.32\n",
    "- 0.52\n",
    "- 0.72\n",
    "- 0.92\n"
   ]
  },
  {
   "cell_type": "code",
   "execution_count": 18,
   "id": "447738d6",
   "metadata": {},
   "outputs": [],
   "source": [
    "# --- Feature Engineering ---\n",
    "# Combine all feature names\n",
    "all_features = categorical + numerical"
   ]
  },
  {
   "cell_type": "code",
   "execution_count": 19,
   "id": "ad88d34a",
   "metadata": {},
   "outputs": [],
   "source": [
    "# One-hot encoding using DictVectorizer\n",
    "dv = DictVectorizer(sparse=False)"
   ]
  },
  {
   "cell_type": "code",
   "execution_count": 20,
   "id": "c9570a32",
   "metadata": {},
   "outputs": [],
   "source": [
    "# Fit on train data and transform\n",
    "train_dict = df_train[all_features].to_dict(orient=\"records\")\n",
    "X_train = dv.fit_transform(train_dict)\n",
    "\n",
    "# Transform validation data\n",
    "val_dict = df_val[all_features].to_dict(orient=\"records\")\n",
    "X_val = dv.transform(val_dict)"
   ]
  },
  {
   "cell_type": "code",
   "execution_count": 22,
   "id": "edf18c83",
   "metadata": {},
   "outputs": [
    {
     "name": "stdout",
     "output_type": "stream",
     "text": [
      "--- Question 2: Training the model (AUC on Validation Set) ---\n",
      "Model AUC on validation set: 0.8171\n",
      "Rounded AUC: 0.817\n"
     ]
    }
   ],
   "source": [
    "# --- Model Training and Evaluation ---\n",
    "# Train Logistic Regression model\n",
    "model = LogisticRegression(solver=\"liblinear\", C=1.0, max_iter=1000, random_state=1)\n",
    "model.fit(X_train, y_train)\n",
    "\n",
    "# Predict probabilities on the validation set\n",
    "y_pred = model.predict_proba(X_val)[:, 1]\n",
    "\n",
    "# Calculate AUC on the validation set\n",
    "auc_val = roc_auc_score(y_val, y_pred)\n",
    "auc_val_rounded = round(auc_val, 3)\n",
    "\n",
    "print(\"--- Question 2: Training the model (AUC on Validation Set) ---\")\n",
    "print(f\"Model AUC on validation set: {auc_val:.4f}\")\n",
    "print(f\"Rounded AUC: {auc_val_rounded}\")"
   ]
  },
  {
   "cell_type": "markdown",
   "id": "f2e04286",
   "metadata": {},
   "source": [
    "### Q2 Ans should be 0.72 (0.817 is more closer to 0.72)"
   ]
  },
  {
   "cell_type": "markdown",
   "id": "9284a2bb",
   "metadata": {},
   "source": [
    "### Question 3: Precision and Recall\n",
    "\n",
    "Now let's compute precision and recall for our model.\n",
    "\n",
    "* Evaluate the model on all thresholds from 0.0 to 1.0 with step 0.01\n",
    "* For each threshold, compute precision and recall\n",
    "* Plot them\n",
    "\n",
    "At which threshold precision and recall curves intersect?\n",
    "\n",
    "* 0.145\n",
    "* 0.345\n",
    "* 0.545\n",
    "* 0.745"
   ]
  },
  {
   "cell_type": "code",
   "execution_count": 24,
   "id": "136c04fa",
   "metadata": {},
   "outputs": [
    {
     "name": "stdout",
     "output_type": "stream",
     "text": [
      "\n",
      "--- Question 3: Precision and Recall Intersection ---\n",
      "Intersection Threshold: 0.640\n"
     ]
    }
   ],
   "source": [
    "print(\"\\n--- Question 3: Precision and Recall Intersection ---\")\n",
    "\n",
    "thresholds = np.linspace(0.0, 1.0, 101)\n",
    "scores_q3 = []\n",
    "\n",
    "for t in thresholds:\n",
    "    # Apply threshold to the predicted probabilities\n",
    "    actual_positive_predictions = y_pred >= t\n",
    "\n",
    "    # Calculate True Positives, False Positives, False Negatives\n",
    "    tp = ((actual_positive_predictions == True) & (y_val == 1)).sum()\n",
    "    fp = ((actual_positive_predictions == True) & (y_val == 0)).sum()\n",
    "    fn = ((actual_positive_predictions == False) & (y_val == 1)).sum()\n",
    "\n",
    "    # Calculate Precision and Recall\n",
    "    # Handle the case where the denominator is zero\n",
    "    precision = tp / (tp + fp) if (tp + fp) > 0 else 1.0\n",
    "    recall = tp / (tp + fn) if (tp + fn) > 0 else 0.0\n",
    "\n",
    "    scores_q3.append((t, precision, recall))\n",
    "\n",
    "df_scores = pd.DataFrame(scores_q3, columns=[\"threshold\", \"precision\", \"recall\"])\n",
    "\n",
    "# Find the threshold where precision and recall curves intersect (minimal absolute difference)\n",
    "df_scores[\"diff\"] = np.abs(df_scores[\"precision\"] - df_scores[\"recall\"])\n",
    "intersection_point = df_scores.sort_values(by=\"diff\").iloc[0]\n",
    "intersect_threshold = intersection_point.threshold\n",
    "\n",
    "print(f\"Intersection Threshold: {intersect_threshold:.3f}\")"
   ]
  },
  {
   "cell_type": "markdown",
   "id": "c002a6ed",
   "metadata": {},
   "source": [
    "### Q3 ANS should be 0.545 (0.64 is more closer)"
   ]
  },
  {
   "cell_type": "markdown",
   "id": "c45cda77",
   "metadata": {},
   "source": [
    "### Question 4: F1 score\n",
    "\n",
    "Precision and recall are conflicting - when one grows, the other goes down. That's why they are often combined into the F1 score - a metrics that takes into account both\n",
    "\n",
    "This is the formula for computing F1:\n",
    "\n",
    "$$F_1 = 2 \\cdot \\cfrac{P \\cdot R}{P + R}$$\n",
    "\n",
    "Where $P$ is precision and $R$ is recall.\n",
    "\n",
    "Let's compute F1 for all thresholds from 0.0 to 1.0 with increment 0.01\n",
    "\n",
    "At which threshold F1 is maximal?\n",
    "\n",
    "- 0.14\n",
    "- 0.34\n",
    "- 0.54\n",
    "- 0.74"
   ]
  },
  {
   "cell_type": "code",
   "execution_count": 25,
   "id": "fc3c91fc",
   "metadata": {},
   "outputs": [
    {
     "name": "stdout",
     "output_type": "stream",
     "text": [
      "\n",
      "--- Question 4: F1 Score Maximal Threshold ---\n",
      "Max F1 Score Threshold: 0.57\n"
     ]
    }
   ],
   "source": [
    "print(\"\\n--- Question 4: F1 Score Maximal Threshold ---\")\n",
    "\n",
    "# Compute F1 score using the formula\n",
    "df_scores[\"f1\"] = (\n",
    "    2\n",
    "    * (df_scores[\"precision\"] * df_scores[\"recall\"])\n",
    "    / (df_scores[\"precision\"] + df_scores[\"recall\"])\n",
    ")\n",
    "# Handle the case where P+R=0\n",
    "df_scores.loc[df_scores[\"precision\"] + df_scores[\"recall\"] == 0, \"f1\"] = 0.0\n",
    "\n",
    "# Find the threshold with maximal F1 score\n",
    "max_f1_point = df_scores.sort_values(by=\"f1\", ascending=False).iloc[0]\n",
    "max_f1_threshold = max_f1_point.threshold\n",
    "\n",
    "print(f\"Max F1 Score Threshold: {max_f1_threshold:.2f}\")"
   ]
  },
  {
   "cell_type": "markdown",
   "id": "e8d759e1",
   "metadata": {},
   "source": [
    "### Question 5: 5-Fold CV\n",
    "\n",
    "\n",
    "Use the `KFold` class from Scikit-Learn to evaluate our model on 5 different folds:\n",
    "\n",
    "```\n",
    "KFold(n_splits=5, shuffle=True, random_state=1)\n",
    "```\n",
    "\n",
    "* Iterate over different folds of `df_full_train`\n",
    "* Split the data into train and validation\n",
    "* Train the model on train with these parameters: `LogisticRegression(solver='liblinear', C=1.0, max_iter=1000)`\n",
    "* Use AUC to evaluate the model on validation\n",
    "\n",
    "How large is standard deviation of the scores across different folds?\n",
    "\n",
    "- 0.0001\n",
    "- 0.006\n",
    "- 0.06\n",
    "- 0.36"
   ]
  },
  {
   "cell_type": "code",
   "execution_count": 27,
   "id": "ffa8441d",
   "metadata": {},
   "outputs": [
    {
     "name": "stdout",
     "output_type": "stream",
     "text": [
      "\n",
      "--- Question 5: 5-Fold CV Standard Deviation ---\n",
      "Standard Deviation of AUC scores: 0.0358\n"
     ]
    }
   ],
   "source": [
    "print(\"\\n--- Question 5: 5-Fold CV Standard Deviation ---\")\n",
    "\n",
    "# --- K-Fold CV Setup (using X_full_train) ---\n",
    "# Prepare data for K-Fold CV\n",
    "dv_cv = DictVectorizer(sparse=False)\n",
    "full_train_dict = df_full_train[all_features].to_dict(orient=\"records\")\n",
    "X_full_train = dv_cv.fit_transform(full_train_dict)\n",
    "\n",
    "# Initialize KFold\n",
    "kfold = KFold(n_splits=5, shuffle=True, random_state=1)\n",
    "\n",
    "# --- CV Calculation ---\n",
    "auc_scores_q5 = []\n",
    "model_q5 = LogisticRegression(solver=\"liblinear\", C=1.0, max_iter=1000, random_state=1)\n",
    "\n",
    "for train_idx, val_idx in kfold.split(X_full_train):\n",
    "    X_train_cv = X_full_train[train_idx]\n",
    "    y_train_cv = y_full_train[train_idx]\n",
    "    X_val_cv = X_full_train[val_idx]\n",
    "\n",
    "    # Train the model\n",
    "    model_q5.fit(X_train_cv, y_train_cv)\n",
    "\n",
    "    # Evaluate the model\n",
    "    y_pred_cv = model_q5.predict_proba(X_val_cv)[:, 1]\n",
    "    auc_scores_q5.append(roc_auc_score(y_full_train[val_idx], y_pred_cv))\n",
    "\n",
    "std_auc = np.std(auc_scores_q5)\n",
    "print(f\"Standard Deviation of AUC scores: {std_auc:.4f}\")"
   ]
  },
  {
   "cell_type": "markdown",
   "id": "562db35e",
   "metadata": {},
   "source": [
    "### Q5 ANS should 0.06"
   ]
  },
  {
   "cell_type": "markdown",
   "id": "9a051316",
   "metadata": {},
   "source": [
    "### Question 6: Hyperparameter Tuning\n",
    "\n",
    "Now let's use 5-Fold cross-validation to find the best parameter `C`\n",
    "\n",
    "* Iterate over the following `C` values: `[0.000001, 0.001, 1]`\n",
    "* Initialize `KFold` with the same parameters as previously\n",
    "* Use these parameters for the model: `LogisticRegression(solver='liblinear', C=C, max_iter=1000)`\n",
    "* Compute the mean score as well as the std (round the mean and std to 3 decimal digits)\n",
    "\n",
    "Which `C` leads to the best mean score?\n",
    "\n",
    "- 0.000001\n",
    "- 0.001\n",
    "- 1\n",
    "\n",
    "If you have ties, select the score with the lowest std. If you still have ties, select the smallest `C`."
   ]
  },
  {
   "cell_type": "code",
   "execution_count": 28,
   "id": "8a5ef965",
   "metadata": {},
   "outputs": [
    {
     "name": "stdout",
     "output_type": "stream",
     "text": [
      "\n",
      "--- Question 6: Hyperparameter Tuning ---\n",
      "C=1e-06     : Mean AUC = 0.560, Std AUC = 0.024\n",
      "C=0.001     : Mean AUC = 0.867, Std AUC = 0.029\n",
      "C=1         : Mean AUC = 0.822, Std AUC = 0.036\n",
      "\n",
      "The best C value is: 0.001\n"
     ]
    }
   ],
   "source": [
    "print(\"\\n--- Question 6: Hyperparameter Tuning ---\")\n",
    "\n",
    "C_values = [0.000001, 0.001, 1]\n",
    "results = []\n",
    "\n",
    "for C in C_values:\n",
    "    auc_scores_c = []\n",
    "    model_params = LogisticRegression(\n",
    "        solver=\"liblinear\", C=C, max_iter=1000, random_state=1\n",
    "    )\n",
    "\n",
    "    # Perform K-Fold CV for the current C value\n",
    "    for train_idx, val_idx in kfold.split(X_full_train):\n",
    "        X_train_cv = X_full_train[train_idx]\n",
    "        y_train_cv = y_full_train[train_idx]\n",
    "        X_val_cv = X_full_train[val_idx]\n",
    "\n",
    "        # Train the model\n",
    "        model_params.fit(X_train_cv, y_train_cv)\n",
    "\n",
    "        # Evaluate the model\n",
    "        y_pred_cv = model_params.predict_proba(X_val_cv)[:, 1]\n",
    "        auc_scores_c.append(roc_auc_score(y_full_train[val_idx], y_pred_cv))\n",
    "\n",
    "    mean_auc = np.mean(auc_scores_c)\n",
    "    std_auc = np.std(auc_scores_c)\n",
    "\n",
    "    results.append({\"C\": C, \"mean_auc\": mean_auc, \"std_auc\": std_auc})\n",
    "\n",
    "    print(f\"C={C:<10}: Mean AUC = {mean_auc:.3f}, Std AUC = {std_auc:.3f}\")\n",
    "\n",
    "# Find the best C based on criteria\n",
    "best_c_result = (\n",
    "    pd.DataFrame(results)\n",
    "    .sort_values(by=[\"mean_auc\", \"std_auc\", \"C\"], ascending=[False, True, True])\n",
    "    .iloc[0]\n",
    ")\n",
    "\n",
    "best_C = best_c_result[\"C\"]\n",
    "print(f\"\\nThe best C value is: {best_C}\")"
   ]
  },
  {
   "cell_type": "markdown",
   "id": "9dc35817",
   "metadata": {},
   "source": []
  }
 ],
 "metadata": {
  "kernelspec": {
   "display_name": "machine-learning-zoomcamp-homework",
   "language": "python",
   "name": "python3"
  },
  "language_info": {
   "codemirror_mode": {
    "name": "ipython",
    "version": 3
   },
   "file_extension": ".py",
   "mimetype": "text/x-python",
   "name": "python",
   "nbconvert_exporter": "python",
   "pygments_lexer": "ipython3",
   "version": "3.11.13"
  }
 },
 "nbformat": 4,
 "nbformat_minor": 5
}
