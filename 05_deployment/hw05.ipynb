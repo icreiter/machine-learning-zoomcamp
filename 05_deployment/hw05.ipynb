{
 "cells": [
  {
   "cell_type": "markdown",
   "id": "d8136874",
   "metadata": {},
   "source": [
    "# HW05-Deployment"
   ]
  },
  {
   "cell_type": "markdown",
   "id": "fcbb10fb",
   "metadata": {},
   "source": [
    "## Question 3\n",
    "\n",
    "Let's use the model!\n",
    "\n",
    "* Write a script for loading the pipeline with pickle\n",
    "* Score this record:\n",
    "\n",
    "```json\n",
    "{\n",
    "    \"lead_source\": \"paid_ads\",\n",
    "    \"number_of_courses_viewed\": 2,\n",
    "    \"annual_income\": 79276.0\n",
    "}\n",
    "```\n",
    "\n",
    "What's the probability that this lead will convert? \n",
    "\n",
    "* 0.333\n",
    "* 0.533\n",
    "* 0.733\n",
    "* 0.933\n",
    "\n",
    "If you're getting errors when unpickling the files, check their checksum:\n",
    "\n",
    "```bash\n",
    "$ md5sum pipeline_v1.bin\n",
    "7d17d2e4dfbaf1e408e1a62e6e880d49 *pipeline_v1.bin\n",
    "```"
   ]
  },
  {
   "cell_type": "code",
   "execution_count": null,
   "id": "7cb43ab9",
   "metadata": {},
   "outputs": [],
   "source": [
    "import pickle\n",
    "\n",
    "def predict(record, model):\n",
    "    x_customer = \n",
    "\n",
    "    with open('pipeline_v1.bin', 'rb') as f_in:\n",
    "        model = pickle.load(f_in)\n",
    "\n",
    "    record = {\n",
    "    \"lead_source\": \"paid_ads\",\n",
    "    \"number_of_courses_viewed\": 2,\n",
    "    \"annual_income\": 79276.0\n",
    "    }"
   ]
  },
  {
   "cell_type": "code",
   "execution_count": 7,
   "id": "204c4fcc",
   "metadata": {},
   "outputs": [
    {
     "name": "stdout",
     "output_type": "stream",
     "text": [
      "The probability that this lead will convert is: 0.5336072702798061\n"
     ]
    }
   ],
   "source": [
    "import pickle\n",
    "import numpy as np\n",
    "\n",
    "# model\n",
    "model = \"pipeline_v1.bin\"\n",
    "\n",
    "\n",
    "def predict_conversion_proba(record, pipeline):\n",
    "\n",
    "    # The pipeline expects a list of dictionaries, even for a single record\n",
    "    X_record = [record]\n",
    "    y_pred_proba = pipeline.predict_proba(X_record)[:, 1]\n",
    "\n",
    "    # Return the single probability value\n",
    "    return y_pred_proba[0]\n",
    "\n",
    "\n",
    "with open(model, \"rb\") as f_in:\n",
    "    # Load the complete scikit-learn pipeline (DictVectorizer + LogisticRegression)\n",
    "    pipeline = pickle.load(f_in)\n",
    "\n",
    "# Score the client record\n",
    "record = {\n",
    "    \"lead_source\": \"paid_ads\",\n",
    "    \"number_of_courses_viewed\": 2,\n",
    "    \"annual_income\": 79276.0,\n",
    "}\n",
    "\n",
    "# Calculate the probability\n",
    "probability = predict_conversion_proba(record, pipeline)\n",
    "print(f\"The probability that this lead will convert is: {probability}\")"
   ]
  },
  {
   "cell_type": "markdown",
   "id": "f5618ddb",
   "metadata": {},
   "source": [
    "## Question 4\n",
    "\n",
    "Now let's serve this model as a web service\n",
    "\n",
    "* Install FastAPI\n",
    "* Write FastAPI code for serving the model\n",
    "* Now score this client using `requests`:\n",
    "\n",
    "```python\n",
    "url = \"YOUR_URL\"\n",
    "client = {\n",
    "    \"lead_source\": \"organic_search\",\n",
    "    \"number_of_courses_viewed\": 4,\n",
    "    \"annual_income\": 80304.0\n",
    "}\n",
    "requests.post(url, json=client).json()\n",
    "```\n",
    "\n",
    "What's the probability that this client will get a subscription?\n",
    "\n",
    "* 0.334\n",
    "* 0.534\n",
    "* 0.734\n",
    "* 0.934\n"
   ]
  },
  {
   "cell_type": "markdown",
   "id": "7a55e90f",
   "metadata": {},
   "source": [
    "--- Prediction Result ---\n",
    "{'conversion_probability': 0.5340417283801275}"
   ]
  },
  {
   "cell_type": "markdown",
   "id": "83c0824e",
   "metadata": {},
   "source": [
    "## Docker\n",
    "\n",
    "Install [Docker](https://github.com/DataTalksClub/machine-learning-zoomcamp/blob/master/05-deployment/06-docker.md). \n",
    "We will use it for the next two questions.\n",
    "\n",
    "For these questions, we prepared a base image: `agrigorev/zoomcamp-model:2025`. \n",
    "You'll need to use it (see Question 5 for an example).\n",
    "\n",
    "This image is based on `3.13.5-slim-bookworm` and has\n",
    "a pipeline with logistic regression (a different one)\n",
    "as well a dictionary vectorizer inside. \n",
    "\n",
    "This is how the Dockerfile for this image looks like:\n",
    "\n",
    "```docker \n",
    "FROM python:3.13.5-slim-bookworm\n",
    "WORKDIR /code\n",
    "COPY pipeline_v2.bin .\n",
    "```\n",
    "\n",
    "We already built it and then pushed it to [`agrigorev/zoomcamp-model:2025`](https://hub.docker.com/r/agrigorev/zoomcamp-model).\n",
    "\n",
    "> **Note**: You don't need to build this docker image, it's just for your reference.\n"
   ]
  },
  {
   "cell_type": "code",
   "execution_count": null,
   "id": "725efe48",
   "metadata": {},
   "outputs": [],
   "source": []
  },
  {
   "cell_type": "markdown",
   "id": "1de1f3a9",
   "metadata": {},
   "source": [
    "## Question 5\n",
    "\n",
    "Download the base image `agrigorev/zoomcamp-model:2025`. You can easily make it by using [docker pull](https://docs.docker.com/engine/reference/commandline/pull/) command.\n",
    "\n",
    "So what's the size of this base image?\n",
    "\n",
    "* 45 MB\n",
    "* 121 MB\n",
    "* 245 MB\n",
    "* 330 MB\n",
    "\n",
    "You can get this information when running `docker images` - it'll be in the \"SIZE\" column."
   ]
  },
  {
   "cell_type": "code",
   "execution_count": 9,
   "id": "ed83e2d1",
   "metadata": {},
   "outputs": [
    {
     "name": "stdout",
     "output_type": "stream",
     "text": [
      "2025: Pulling from agrigorev/zoomcamp-model\n",
      "59e22667830b: Pulling fs layer\n",
      "19f81082f6f0: Pulling fs layer\n",
      "799df5177ae2: Pulling fs layer\n",
      "66cd357cf7a1: Pulling fs layer\n",
      "760c2b9cc6ee: Pulling fs layer\n",
      "816e9c0578b5: Pulling fs layer\n",
      "816e9c0578b5: Download complete\n",
      "19f81082f6f0: Download complete\n",
      "66cd357cf7a1: Download complete\n",
      "760c2b9cc6ee: Download complete\n",
      "799df5177ae2: Download complete\n",
      "59e22667830b: Download complete\n",
      "59e22667830b: Pull complete\n",
      "19f81082f6f0: Pull complete\n",
      "816e9c0578b5: Pull complete\n",
      "66cd357cf7a1: Pull complete\n",
      "760c2b9cc6ee: Pull complete\n",
      "799df5177ae2: Pull complete\n",
      "Digest: sha256:14d79fde0bbf078eb18c99c2bd007205917b758ec11060b2994963a1e485c2ae\n",
      "Status: Downloaded newer image for agrigorev/zoomcamp-model:2025\n",
      "docker.io/agrigorev/zoomcamp-model:2025\n"
     ]
    }
   ],
   "source": [
    "!docker pull agrigorev/zoomcamp-model:2025"
   ]
  },
  {
   "cell_type": "code",
   "execution_count": 10,
   "id": "68b4ffab",
   "metadata": {},
   "outputs": [
    {
     "name": "stdout",
     "output_type": "stream",
     "text": [
      "REPOSITORY                 TAG       IMAGE ID       CREATED      SIZE\n",
      "agrigorev/zoomcamp-model   2025      14d79fde0bbf   6 days ago   181MB\n"
     ]
    }
   ],
   "source": [
    "!docker images"
   ]
  },
  {
   "cell_type": "markdown",
   "id": "67ce7fbd",
   "metadata": {},
   "source": [
    "### choose the most close size 121MB"
   ]
  },
  {
   "cell_type": "markdown",
   "id": "a811d6a9",
   "metadata": {},
   "source": [
    "## Dockerfile\n",
    "\n",
    "Now create your own `Dockerfile` based on the image we prepared.\n",
    "\n",
    "It should start like that:\n",
    "\n",
    "```docker\n",
    "FROM agrigorev/zoomcamp-model:2025\n",
    "# add your stuff here\n",
    "```\n",
    "\n",
    "Now complete it:\n",
    "\n",
    "* Install all the dependencies from pyproject.toml\n",
    "* Copy your FastAPI script\n",
    "* Run it with uvicorn \n",
    "\n",
    "After that, you can build your docker image."
   ]
  },
  {
   "cell_type": "code",
   "execution_count": null,
   "id": "121580f4",
   "metadata": {},
   "outputs": [],
   "source": []
  },
  {
   "cell_type": "markdown",
   "id": "4a6f5fe8",
   "metadata": {},
   "source": [
    "## Question 6\n",
    "\n",
    "Let's run your docker container!\n",
    "\n",
    "After running it, score this client once again:\n",
    "\n",
    "```python\n",
    "url = \"YOUR_URL\"\n",
    "client = {\n",
    "    \"lead_source\": \"organic_search\",\n",
    "    \"number_of_courses_viewed\": 4,\n",
    "    \"annual_income\": 80304.0\n",
    "}\n",
    "requests.post(url, json=client).json()\n",
    "```\n",
    "\n",
    "What's the probability that this lead will convert?\n",
    "\n",
    "* 0.39\n",
    "* 0.59\n",
    "* 0.79\n",
    "* 0.99\n"
   ]
  },
  {
   "cell_type": "code",
   "execution_count": null,
   "id": "87ac2c34",
   "metadata": {},
   "outputs": [],
   "source": []
  },
  {
   "cell_type": "markdown",
   "id": "de7794db",
   "metadata": {},
   "source": [
    "## Publishing to Docker hub\n",
    "\n",
    "This is just for reference, this is how we published an image to Docker hub.\n",
    "\n",
    "`Dockerfile_base`: \n",
    "\n",
    "```dockerfile\n",
    "FROM python:3.13.5-slim-bookworm\n",
    "WORKDIR /code\n",
    "COPY pipeline_v2.bin .\n",
    "```\n",
    "\n",
    "Publishing:\n",
    "\n",
    "```bash\n",
    "docker build -t mlzoomcamp2025_hw5 -f Dockerfile_base .\n",
    "docker tag mlzoomcamp2025_hw5:latest agrigorev/zoomcamp-model:2025\n",
    "docker push agrigorev/zoomcamp-model:2025\n",
    "```\n"
   ]
  },
  {
   "cell_type": "markdown",
   "id": "5220e8da",
   "metadata": {},
   "source": []
  }
 ],
 "metadata": {
  "kernelspec": {
   "display_name": "05-deployment",
   "language": "python",
   "name": "python3"
  },
  "language_info": {
   "codemirror_mode": {
    "name": "ipython",
    "version": 3
   },
   "file_extension": ".py",
   "mimetype": "text/x-python",
   "name": "python",
   "nbconvert_exporter": "python",
   "pygments_lexer": "ipython3",
   "version": "3.12.11"
  }
 },
 "nbformat": 4,
 "nbformat_minor": 5
}
